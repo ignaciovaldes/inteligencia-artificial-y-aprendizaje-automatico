{
  "nbformat": 4,
  "nbformat_minor": 0,
  "metadata": {
    "colab": {
      "provenance": [],
      "toc_visible": true,
      "authorship_tag": "ABX9TyPLkL4x7iBhAXwwoQ9uNLqT",
      "include_colab_link": true
    },
    "kernelspec": {
      "name": "python3",
      "display_name": "Python 3"
    },
    "language_info": {
      "name": "python"
    }
  },
  "cells": [
    {
      "cell_type": "markdown",
      "metadata": {
        "id": "view-in-github",
        "colab_type": "text"
      },
      "source": [
        "<a href=\"https://colab.research.google.com/github/ignaciovaldes/inteligencia-artificial-y-aprendizaje-automatico/blob/main/Python_for_Data_Science.ipynb\" target=\"_parent\"><img src=\"https://colab.research.google.com/assets/colab-badge.svg\" alt=\"Open In Colab\"/></a>"
      ]
    },
    {
      "cell_type": "markdown",
      "source": [
        "# Python for Data Science\n",
        "\n",
        "## Learning Objectives\n",
        "- What is Python and why it is useful\n",
        "- The application of Python \n",
        "- How to define variables\n",
        "- Sets and conditional statements in Python\n",
        "- The purpose of having functions in Python\n",
        "- How to operate on files to read and write data in Python\n",
        "- How to use pandas, a must-have package for anyone attempting data analysis in Python"
      ],
      "metadata": {
        "id": "QoVMznpWwV9p"
      }
    },
    {
      "cell_type": "markdown",
      "source": [
        "## Module 1 – Python Basics\n",
        "\n",
        "### Learning Objectives\n",
        "- Understand the available data types in Python\n",
        "- Be familiar with Python expressions and variables\n",
        "- Be able to perform basic operations on strings\n",
        "\n",
        "### Notes\n",
        "- Object-oriented\n",
        "- Python 3"
      ],
      "metadata": {
        "id": "7S8bvTzAx5Xm"
      }
    },
    {
      "cell_type": "markdown",
      "source": [
        "### **Types**\n",
        "- Integers → 11 (int)\n",
        "  - type(11) = int\n",
        "  - -4, -3, -2, -1, 0, 1, 2, 3, 4\n",
        "- Real numbers → 21.213 (float)\n",
        "  - type(21.213) = float\n",
        "  - 0.5, 0.6\n",
        "– Words → \"Hello Python 101\" (str)\n",
        "  - type(\"Hello Python 101\") = str\n",
        "- Boolean → **T**rue or **F**alse\n",
        "  - bool(1) = True\n",
        "  - bool(0) = False"
      ],
      "metadata": {
        "id": "ATlRVK5sHCjA"
      }
    },
    {
      "cell_type": "code",
      "execution_count": null,
      "metadata": {
        "colab": {
          "base_uri": "https://localhost:8080/"
        },
        "id": "JhzuF2WavH98",
        "outputId": "9bbcad85-0312-4e70-b30b-ecd0f96a888d"
      },
      "outputs": [
        {
          "output_type": "stream",
          "name": "stdout",
          "text": [
            "Hello Python 101\n",
            "Hello\n",
            "World!\n"
          ]
        }
      ],
      "source": [
        "# The value in the parentheses is called the argument\n",
        "print(\"Hello Python 101\")\n",
        "\n",
        "# Print statement\n",
        "print(\"Hello\\nWorld!\")\n",
        "\n",
        "# print('Hello World!')"
      ]
    },
    {
      "cell_type": "code",
      "source": [
        "# Type casting to change the type of the expression\n",
        "\n",
        "float(2)\n",
        "\n",
        "int(1.1)\n",
        "int('1')\n",
        "\n",
        "str(1)\n",
        "str(4.5)\n",
        "\n",
        "type(True)\n",
        "type(False)\n",
        "\n",
        "int(True)\n",
        "int(False)\n",
        "\n",
        "bool(1)\n",
        "bool(0)"
      ],
      "metadata": {
        "colab": {
          "base_uri": "https://localhost:8080/"
        },
        "id": "QTrXRrklH-qd",
        "outputId": "f96119c6-57ee-4154-9837-2725fe965dd4"
      },
      "execution_count": null,
      "outputs": [
        {
          "output_type": "execute_result",
          "data": {
            "text/plain": [
              "False"
            ]
          },
          "metadata": {},
          "execution_count": 48
        }
      ]
    },
    {
      "cell_type": "code",
      "source": [
        "# A **Syntactic** error is when Python does not understand your code\n",
        "# A **Semantic** error is when your logic is wrong\n",
        "\n",
        "int('A')"
      ],
      "metadata": {
        "colab": {
          "base_uri": "https://localhost:8080/",
          "height": 198
        },
        "id": "1Au1NeC-IYpG",
        "outputId": "178246c3-e08a-4d9d-ca09-dd9ac2435a25"
      },
      "execution_count": null,
      "outputs": [
        {
          "output_type": "error",
          "ename": "ValueError",
          "evalue": "ignored",
          "traceback": [
            "\u001b[0;31m---------------------------------------------------------------------------\u001b[0m",
            "\u001b[0;31mValueError\u001b[0m                                Traceback (most recent call last)",
            "\u001b[0;32m<ipython-input-47-26c35316d4cd>\u001b[0m in \u001b[0;36m<module>\u001b[0;34m\u001b[0m\n\u001b[1;32m      2\u001b[0m \u001b[0;31m# A **Semantic** error is when your logic is wrong\u001b[0m\u001b[0;34m\u001b[0m\u001b[0;34m\u001b[0m\u001b[0;34m\u001b[0m\u001b[0m\n\u001b[1;32m      3\u001b[0m \u001b[0;34m\u001b[0m\u001b[0m\n\u001b[0;32m----> 4\u001b[0;31m \u001b[0mint\u001b[0m\u001b[0;34m(\u001b[0m\u001b[0;34m'A'\u001b[0m\u001b[0;34m)\u001b[0m\u001b[0;34m\u001b[0m\u001b[0;34m\u001b[0m\u001b[0m\n\u001b[0m",
            "\u001b[0;31mValueError\u001b[0m: invalid literal for int() with base 10: 'A'"
          ]
        }
      ]
    },
    {
      "cell_type": "markdown",
      "source": [
        "### **Expressions**\n",
        "- Expressions describe a type of operation that computers perform\n",
        "- Mathematical Operations\n",
        "- Numbers → Operands\n",
        "- Maths symbols → Operators\n",
        "\n",
        "### **Variables**\n",
        "- We can use variables to store values"
      ],
      "metadata": {
        "id": "ER3uH4d4HLFO"
      }
    },
    {
      "cell_type": "code",
      "source": [
        "50 - 60\n",
        "5 * 5\n",
        "25 / 5\n",
        "25 / 6\n",
        "25 // 6\n",
        "\n",
        "# Python performs multiplication, then addition to obtain the final result\n",
        "2 * 60 + 30\n",
        "\n",
        "# Python performs multiplication, then addition to obtain the final result\n",
        "30 + 2 * 60\n",
        "\n",
        "# The expressions in the parentheses are performed first\n",
        "(30 + 2) * 60\n",
        "\n",
        "my_variable = 1\n",
        "\n",
        "x = 160\n",
        "y = x / 60\n",
        "\n",
        "type(x)\n",
        "\n",
        "total_min = 43 + 42 + 57\n",
        "total_hr = total_min / 60\n",
        "print(total_hr)"
      ],
      "metadata": {
        "colab": {
          "base_uri": "https://localhost:8080/"
        },
        "id": "erTG3rwDIQvt",
        "outputId": "1b069072-b515-4953-d37e-3b43bc37c620"
      },
      "execution_count": null,
      "outputs": [
        {
          "output_type": "stream",
          "name": "stdout",
          "text": [
            "2.3666666666666667\n"
          ]
        }
      ]
    },
    {
      "cell_type": "markdown",
      "source": [
        "### **Strings**\n",
        "- Is a sequence of characters\n",
        "- A string is contained within two quotes or single quotes\n",
        "- Each element in the sequence can be accessed\n",
        "- Array\n",
        "- Index\n",
        "- Inmutable\n",
        "- String Operations:\n",
        "  - Slicing\n",
        "  - Stride\n",
        "- String Methods:\n",
        "  - Upper\n",
        "  - Replace\n",
        "  - Find"
      ],
      "metadata": {
        "id": "EaNk_p6BHT75"
      }
    },
    {
      "cell_type": "code",
      "source": [
        "Name = \"Michael Jackson\"\n",
        "Name[0]\n",
        "Name[-15]\n",
        "\n",
        "# Slicing\n",
        "Name[0:4]\n",
        "\n",
        "# Stride\n",
        "Name[::2]\n",
        "Name[0:5:2]\n",
        "len(Name)\n",
        "\n",
        "# Concatenate or combine strings\n",
        "Statement = Name + \" is the best!\"\n",
        "print(Statement)\n",
        "\n",
        "# Tuples\n",
        "thistuple = (\"apple\", \"banana\", \"cherry\")\n",
        "3 * Name\n",
        "3 * \"Michael Jackson \"\n",
        "\n",
        "# Scape sequences\n",
        "print(\"Michael Jackson \\n is the best!\")\n",
        "\n",
        "print(\"Michael Jackson \\t is the best!\")\n",
        "\n",
        "print(\"Michael Jackson \\\\ is the best!\")\n",
        "print(r\"Michael Jackson \\ is the best!\")\n",
        "\n",
        "# Upper\n",
        "A = \"Thriller is the sixth studio album\"\n",
        "B = A.upper()\n",
        "print(B)\n",
        "\n",
        "# Replace\n",
        "C = Statement.replace(\"Michael\", \"Janet\")\n",
        "print(C)\n",
        "\n",
        "# Find\n",
        "Name.find(\"el\")"
      ],
      "metadata": {
        "id": "0Wh7KIgq5EdI",
        "colab": {
          "base_uri": "https://localhost:8080/"
        },
        "outputId": "92846cfd-a948-434d-fbf7-362e4abc4252"
      },
      "execution_count": null,
      "outputs": [
        {
          "output_type": "stream",
          "name": "stdout",
          "text": [
            "Michael Jackson is the best!\n",
            "Michael Jackson \n",
            " is the best!\n",
            "Michael Jackson \t is the best!\n",
            "Michael Jackson \\ is the best!\n",
            "Michael Jackson \\ is the best!\n",
            "THRILLER IS THE SIXTH STUDIO ALBUM\n",
            "Janet Jackson is the best!\n"
          ]
        },
        {
          "output_type": "execute_result",
          "data": {
            "text/plain": [
              "5"
            ]
          },
          "metadata": {},
          "execution_count": 29
        }
      ]
    },
    {
      "cell_type": "code",
      "source": [
        "3 + 2 * 2\n",
        "\n",
        "name = 'Lizz'\n",
        "print(name[0:2])\n",
        "\n",
        "var = '01234567'\n",
        "print(var[::2])\n",
        "\n",
        "'1'+'2'"
      ],
      "metadata": {
        "colab": {
          "base_uri": "https://localhost:8080/",
          "height": 71
        },
        "id": "i-7im3eMFVAQ",
        "outputId": "12ce697b-bee3-41a3-c7ce-f94d53b34be8"
      },
      "execution_count": null,
      "outputs": [
        {
          "output_type": "stream",
          "name": "stdout",
          "text": [
            "Li\n",
            "0246\n"
          ]
        },
        {
          "output_type": "execute_result",
          "data": {
            "text/plain": [
              "'12'"
            ],
            "application/vnd.google.colaboratory.intrinsic+json": {
              "type": "string"
            }
          },
          "metadata": {},
          "execution_count": 33
        }
      ]
    },
    {
      "cell_type": "markdown",
      "source": [
        "## Module 2 – Python Data Structures\n",
        "\n",
        "### Learning Objectives\n",
        "- Lists and Tuples \n",
        "- Sets\n",
        "- Dictionaries \n",
        "\n",
        "### Notes"
      ],
      "metadata": {
        "id": "sOFBmpDOYuGQ"
      }
    },
    {
      "cell_type": "markdown",
      "source": [
        "### **Tuples**\n",
        "- Ordered sequence\n",
        "- Inmutable"
      ],
      "metadata": {
        "id": "Ah1g2-QpZrPD"
      }
    },
    {
      "cell_type": "code",
      "source": [
        "Ratings = (10, 9, 8, 7, 6, 5, 4, 3, 2, 1)\n",
        "print(Ratings)\n",
        "\n",
        "tuple1 = (\"disco\", 10, 1.2)\n",
        "print(tuple1)\n",
        "type(tuple1)\n",
        "\n",
        "tuple1[0]\n",
        "tuple1[-3]\n",
        "\n",
        "tuple2 = tuple1 + (\"hard rock\", 10)\n",
        "print(tuple2)\n",
        "\n",
        "tuple2[0:3]\n",
        "len(tuple2)\n",
        "\n",
        "RatingsSorted = sorted(Ratings)\n",
        "print(RatingsSorted)\n",
        "\n",
        "# Nesting\n",
        "NT = (1, 2, (\"pop\", \"rock\"), (3, 4), (\"disco\", (1, 2)))\n",
        "NT[2]\n",
        "NT[2][1]"
      ],
      "metadata": {
        "colab": {
          "base_uri": "https://localhost:8080/",
          "height": 105
        },
        "id": "Jg1LixsPaWSD",
        "outputId": "1b0c4a7a-2a32-44de-db97-dde848333d5c"
      },
      "execution_count": null,
      "outputs": [
        {
          "output_type": "stream",
          "name": "stdout",
          "text": [
            "(10, 9, 8, 7, 6, 5, 4, 3, 2, 1)\n",
            "('disco', 10, 1.2)\n",
            "('disco', 10, 1.2, 'hard rock', 10)\n",
            "[1, 2, 3, 4, 5, 6, 7, 8, 9, 10]\n"
          ]
        },
        {
          "output_type": "execute_result",
          "data": {
            "text/plain": [
              "'rock'"
            ],
            "application/vnd.google.colaboratory.intrinsic+json": {
              "type": "string"
            }
          },
          "metadata": {},
          "execution_count": 67
        }
      ]
    },
    {
      "cell_type": "markdown",
      "source": [
        "### **List**\n",
        "- Ordered sequence\n",
        "- Mutable\n",
        "- A = B (aliasing)"
      ],
      "metadata": {
        "id": "MZK7lEbtd6cx"
      }
    },
    {
      "cell_type": "code",
      "source": [
        "L = [\"Michael Jackson\", 10.1, 1982]\n",
        "\n",
        "# Methods\n",
        "L.extend([\"pop\", 10])\n",
        "print(L)\n",
        "\n",
        "L.append([\"pop\", 10])\n",
        "print(L)\n",
        "\n",
        "A = [\"disco\", 10, 1.2]\n",
        "A[0] = \"hard rock\"\n",
        "print(A)\n",
        "\n",
        "# Command\n",
        "del(A[0])\n",
        "print(A)\n",
        "\n",
        "\"hard rock\".split()\n",
        "\"A, B, C, D\".split(\",\")\n",
        "\n",
        "# Aliasing\n",
        "B = A\n",
        "\n",
        "# Clone\n",
        "B = A[:]\n",
        "print(B)\n",
        "\n",
        "help(A)"
      ],
      "metadata": {
        "colab": {
          "base_uri": "https://localhost:8080/"
        },
        "id": "m12E7F8EeXmp",
        "outputId": "cdb55e90-c21c-4e9c-dd1a-7ca513681465"
      },
      "execution_count": null,
      "outputs": [
        {
          "output_type": "stream",
          "name": "stdout",
          "text": [
            "['Michael Jackson', 10.1, 1982, 'pop', 10]\n",
            "['Michael Jackson', 10.1, 1982, 'pop', 10, ['pop', 10]]\n",
            "['hard rock', 10, 1.2]\n",
            "[10, 1.2]\n",
            "[10, 1.2]\n",
            "Help on list object:\n",
            "\n",
            "class list(object)\n",
            " |  list(iterable=(), /)\n",
            " |  \n",
            " |  Built-in mutable sequence.\n",
            " |  \n",
            " |  If no argument is given, the constructor creates a new empty list.\n",
            " |  The argument must be an iterable if specified.\n",
            " |  \n",
            " |  Methods defined here:\n",
            " |  \n",
            " |  __add__(self, value, /)\n",
            " |      Return self+value.\n",
            " |  \n",
            " |  __contains__(self, key, /)\n",
            " |      Return key in self.\n",
            " |  \n",
            " |  __delitem__(self, key, /)\n",
            " |      Delete self[key].\n",
            " |  \n",
            " |  __eq__(self, value, /)\n",
            " |      Return self==value.\n",
            " |  \n",
            " |  __ge__(self, value, /)\n",
            " |      Return self>=value.\n",
            " |  \n",
            " |  __getattribute__(self, name, /)\n",
            " |      Return getattr(self, name).\n",
            " |  \n",
            " |  __getitem__(...)\n",
            " |      x.__getitem__(y) <==> x[y]\n",
            " |  \n",
            " |  __gt__(self, value, /)\n",
            " |      Return self>value.\n",
            " |  \n",
            " |  __iadd__(self, value, /)\n",
            " |      Implement self+=value.\n",
            " |  \n",
            " |  __imul__(self, value, /)\n",
            " |      Implement self*=value.\n",
            " |  \n",
            " |  __init__(self, /, *args, **kwargs)\n",
            " |      Initialize self.  See help(type(self)) for accurate signature.\n",
            " |  \n",
            " |  __iter__(self, /)\n",
            " |      Implement iter(self).\n",
            " |  \n",
            " |  __le__(self, value, /)\n",
            " |      Return self<=value.\n",
            " |  \n",
            " |  __len__(self, /)\n",
            " |      Return len(self).\n",
            " |  \n",
            " |  __lt__(self, value, /)\n",
            " |      Return self<value.\n",
            " |  \n",
            " |  __mul__(self, value, /)\n",
            " |      Return self*value.\n",
            " |  \n",
            " |  __ne__(self, value, /)\n",
            " |      Return self!=value.\n",
            " |  \n",
            " |  __repr__(self, /)\n",
            " |      Return repr(self).\n",
            " |  \n",
            " |  __reversed__(self, /)\n",
            " |      Return a reverse iterator over the list.\n",
            " |  \n",
            " |  __rmul__(self, value, /)\n",
            " |      Return value*self.\n",
            " |  \n",
            " |  __setitem__(self, key, value, /)\n",
            " |      Set self[key] to value.\n",
            " |  \n",
            " |  __sizeof__(self, /)\n",
            " |      Return the size of the list in memory, in bytes.\n",
            " |  \n",
            " |  append(self, object, /)\n",
            " |      Append object to the end of the list.\n",
            " |  \n",
            " |  clear(self, /)\n",
            " |      Remove all items from list.\n",
            " |  \n",
            " |  copy(self, /)\n",
            " |      Return a shallow copy of the list.\n",
            " |  \n",
            " |  count(self, value, /)\n",
            " |      Return number of occurrences of value.\n",
            " |  \n",
            " |  extend(self, iterable, /)\n",
            " |      Extend list by appending elements from the iterable.\n",
            " |  \n",
            " |  index(self, value, start=0, stop=9223372036854775807, /)\n",
            " |      Return first index of value.\n",
            " |      \n",
            " |      Raises ValueError if the value is not present.\n",
            " |  \n",
            " |  insert(self, index, object, /)\n",
            " |      Insert object before index.\n",
            " |  \n",
            " |  pop(self, index=-1, /)\n",
            " |      Remove and return item at index (default last).\n",
            " |      \n",
            " |      Raises IndexError if list is empty or index is out of range.\n",
            " |  \n",
            " |  remove(self, value, /)\n",
            " |      Remove first occurrence of value.\n",
            " |      \n",
            " |      Raises ValueError if the value is not present.\n",
            " |  \n",
            " |  reverse(self, /)\n",
            " |      Reverse *IN PLACE*.\n",
            " |  \n",
            " |  sort(self, /, *, key=None, reverse=False)\n",
            " |      Stable sort *IN PLACE*.\n",
            " |  \n",
            " |  ----------------------------------------------------------------------\n",
            " |  Static methods defined here:\n",
            " |  \n",
            " |  __new__(*args, **kwargs) from builtins.type\n",
            " |      Create and return a new object.  See help(type) for accurate signature.\n",
            " |  \n",
            " |  ----------------------------------------------------------------------\n",
            " |  Data and other attributes defined here:\n",
            " |  \n",
            " |  __hash__ = None\n",
            "\n"
          ]
        }
      ]
    },
    {
      "cell_type": "markdown",
      "source": [
        "### **Sets**\n",
        "- Type of collection\n",
        "- Unordered\n",
        "- Only have unique elements\n",
        "- Venn diagram usually to represent sets"
      ],
      "metadata": {
        "id": "0UEOvU3Xe-uY"
      }
    },
    {
      "cell_type": "code",
      "source": [
        "Set = {\"pop\", \"rock\", \"soul\"}\n",
        "\n",
        "# Type-casting\n",
        "album_list = [\"Michael Jackson\", \"Thriller\", \"Thriller\", 1982]\n",
        "album_set = set(album_list)\n",
        "print(album_set)\n",
        "\n",
        "# Set Operations\n",
        "A = {\"Thriller\"}\n",
        "A.add(\"AC/DC\")\n",
        "print(A)\n",
        "\n",
        "A.remove(\"Thriller\")\n",
        "print(A)\n",
        "\n",
        "\"AC/DC\" in A\n",
        "\n",
        "# Intersaction Operation\n",
        "album_set_1 = {\"AC/DC\", \"Back in Black\", \"Thriller\"}\n",
        "album_set_2 = {\"AC/DC\", \"Back in Black\", \"The Dark Side of the Moon\"}\n",
        "album_set_3 = album_set_1 & album_set_2\n",
        "print(album_set_3)\n",
        "\n",
        "album_set_1.union(album_set_2)\n",
        "print(album_set_1)\n",
        "\n",
        "album_set_3.issubset(album_set_1)"
      ],
      "metadata": {
        "colab": {
          "base_uri": "https://localhost:8080/"
        },
        "id": "aQlWdMFEfT15",
        "outputId": "543c9f30-4e49-459f-967c-217deb36d923"
      },
      "execution_count": null,
      "outputs": [
        {
          "output_type": "stream",
          "name": "stdout",
          "text": [
            "{'Thriller', 'Michael Jackson', 1982}\n",
            "{'Thriller', 'AC/DC'}\n",
            "{'AC/DC'}\n",
            "{'AC/DC', 'Back in Black'}\n",
            "{'AC/DC', 'Back in Black', 'Thriller'}\n"
          ]
        },
        {
          "output_type": "execute_result",
          "data": {
            "text/plain": [
              "True"
            ]
          },
          "metadata": {},
          "execution_count": 13
        }
      ]
    },
    {
      "cell_type": "code",
      "source": [
        "S={'A','B','C'}\n",
        "U={'A','Z','C'}\n",
        "U.union(S)\n",
        "\n",
        "V = S & U\n",
        "print(V)"
      ],
      "metadata": {
        "colab": {
          "base_uri": "https://localhost:8080/"
        },
        "id": "8laXGpKYjHPM",
        "outputId": "4a69298e-5d16-487b-f75a-01d03396cbb7"
      },
      "execution_count": null,
      "outputs": [
        {
          "output_type": "stream",
          "name": "stdout",
          "text": [
            "{'C', 'A'}\n"
          ]
        }
      ]
    },
    {
      "cell_type": "markdown",
      "source": [
        "### **Dictionary**\n",
        "- Index and Element → List\n",
        "- Key and Element/Values → Dictionary\n",
        "- Values can be inmutable, mutable and duplicates"
      ],
      "metadata": {
        "id": "KiODQQ37j2r0"
      }
    },
    {
      "cell_type": "code",
      "source": [
        "DICT = {\"key1\" : 1, \"key 2\" : \"2\", \"key 3\" : [3, 3, 3], \"key 4\" : (4, 4, 4)}\n",
        "\n",
        "DICT[\"key1\"]\n",
        "\n",
        "DICT[\"Graduation\"] = \"2017\"\n",
        "print(DICT)\n",
        "\n",
        "del(DICT[\"key1\"])\n",
        "print(DICT)\n",
        "\n",
        "\"key2\" in DICT\n",
        "\n",
        "DICT.keys()\n",
        "DICT.values()"
      ],
      "metadata": {
        "colab": {
          "base_uri": "https://localhost:8080/"
        },
        "id": "Z6wRRTRZknTI",
        "outputId": "416b30ec-5acc-4f4c-d473-0a364817eefd"
      },
      "execution_count": null,
      "outputs": [
        {
          "output_type": "stream",
          "name": "stdout",
          "text": [
            "{'key1': 1, 'key 2': '2', 'key 3': [3, 3, 3], 'key 4': (4, 4, 4), 'Graduation': '2017'}\n",
            "{'key 2': '2', 'key 3': [3, 3, 3], 'key 4': (4, 4, 4), 'Graduation': '2017'}\n"
          ]
        },
        {
          "output_type": "execute_result",
          "data": {
            "text/plain": [
              "dict_values(['2', [3, 3, 3], (4, 4, 4), '2017'])"
            ]
          },
          "metadata": {},
          "execution_count": 27
        }
      ]
    },
    {
      "cell_type": "code",
      "source": [
        "D = {'a':0,'b':1,'c':2}\n",
        "D.values()"
      ],
      "metadata": {
        "colab": {
          "base_uri": "https://localhost:8080/"
        },
        "id": "y_TuXPgEzfv_",
        "outputId": "9e22c004-b8a1-49bd-bf65-6c2f03995a4b"
      },
      "execution_count": null,
      "outputs": [
        {
          "output_type": "execute_result",
          "data": {
            "text/plain": [
              "dict_values([0, 1, 2])"
            ]
          },
          "metadata": {},
          "execution_count": 32
        }
      ]
    },
    {
      "cell_type": "markdown",
      "source": [
        "## Module 3 – Python Programming Fundamentals\n",
        "\n",
        "### Learning Objectives\n",
        "- Conditions and Branching\n",
        "- Loops\n",
        "- Functions\n",
        "- Objects and Classes\n",
        "\n",
        "### Notes"
      ],
      "metadata": {
        "id": "J9Xl3eA_1G8G"
      }
    },
    {
      "cell_type": "markdown",
      "source": [
        "### **Conditions and Branching**\n",
        "\n",
        "**Comparison Operatos**\n",
        "- Compare some value or operand\n",
        "\n",
        "**Branching**\n",
        "- Allows us to run different statements for a different input"
      ],
      "metadata": {
        "id": "94MXrMGF1lve"
      }
    },
    {
      "cell_type": "code",
      "source": [
        "a = 6\n",
        "\n",
        "# Equality test\n",
        "a == 7\n",
        "\n",
        "i = 6\n",
        "i > 5\n",
        "i >= 5\n",
        "\n",
        "a = 2\n",
        "\n",
        "# Inequality test\n",
        "a != 6\n",
        "\n",
        "# The if Statement\n",
        "age = 18\n",
        "if (age > 18):\n",
        "  print(\"You can enter\")\n",
        "elif (age == 18):\n",
        "  print(\"Go see Pink Floyd\")\n",
        "else:\n",
        "  print(\"Go see Meat Loaf\")\n",
        "print(\"Move on\")\n",
        "\n",
        "# Logic Operators\n",
        "album_year = 1990\n",
        "\n",
        "if(album_year < 1980) or (album_year > 1989):\n",
        "  print(\"The album was made in the 70's or 90's\")\n",
        "else:\n",
        "  print(\"The album was made in the 80's\")\n",
        "\n",
        "if(album_year > 1979) and (album_year < 1990):\n",
        "  print(\"The album was made in the 80's\")\n",
        "else:\n",
        "  print(\"The album was not made in the 80's\")"
      ],
      "metadata": {
        "colab": {
          "base_uri": "https://localhost:8080/"
        },
        "id": "8UuD1ao32U4B",
        "outputId": "076f1a03-e24e-47d3-a675-3ba6046bb0a9"
      },
      "execution_count": null,
      "outputs": [
        {
          "output_type": "stream",
          "name": "stdout",
          "text": [
            "Go see Pink Floyd\n",
            "Move on\n",
            "The album was made in the 70's or 90's\n",
            "The album was not made in the 80'ss\n"
          ]
        }
      ]
    },
    {
      "cell_type": "markdown",
      "source": [
        "### **Loops**\n",
        "- for loops\n",
        "- while loops"
      ],
      "metadata": {
        "id": "uEgtC8g3CmMU"
      }
    },
    {
      "cell_type": "code",
      "source": [
        "#for loops\n",
        "squares = [\"red\", \"yellow\", \"green\", \"purple\", \"blue\"]\n",
        "for i in range(0, 5):\n",
        "  squares[i] = \"white\"\n",
        "print(squares)\n",
        "\n",
        "squares = [\"red\", \"yellow\", \"green\", \"purple\", \"blue\"]\n",
        "for square in squares:\n",
        "  square\n",
        "print(square)\n",
        "\n",
        "squares = [\"red\", \"yellow\", \"green\", \"purple\", \"blue\"]\n",
        "for i, square in enumerate(squares):\n",
        "  square\n",
        "  i\n",
        "print(i)\n",
        "\n",
        "# while loops\n",
        "squares = [\"orange\", \"orange\", \"purple\", \"blue\"]\n",
        "Newsquares = []\n",
        "i = 0\n",
        "\n",
        "while(squares[i] == \"orange\"):\n",
        "  Newsquares.append(squares[i])\n",
        "  i = i + 1\n",
        "  print(Newsquares)\n"
      ],
      "metadata": {
        "colab": {
          "base_uri": "https://localhost:8080/"
        },
        "id": "Dy_LhP3EDNim",
        "outputId": "395da2dc-0ee4-48e2-d265-33352b40cf6c"
      },
      "execution_count": null,
      "outputs": [
        {
          "output_type": "stream",
          "name": "stdout",
          "text": [
            "['white', 'white', 'white', 'white', 'white']\n",
            "blue\n",
            "4\n",
            "['orange']\n",
            "['orange', 'orange']\n"
          ]
        }
      ]
    },
    {
      "cell_type": "code",
      "source": [
        "A=[3,4,5]\n",
        "\n",
        "for a in A:\n",
        "\n",
        "  print(a)"
      ],
      "metadata": {
        "colab": {
          "base_uri": "https://localhost:8080/"
        },
        "id": "1VjjToLGG951",
        "outputId": "3ac234b3-918b-4a0e-eb47-844c72239522"
      },
      "execution_count": null,
      "outputs": [
        {
          "output_type": "stream",
          "name": "stdout",
          "text": [
            "3\n",
            "4\n",
            "5\n"
          ]
        }
      ]
    },
    {
      "cell_type": "markdown",
      "source": [
        "### **Functions**\n",
        "- Reuse\n",
        "- Name of the function\n",
        "- Formal parameters\n",
        "- Scope of a variable is the part of the program where that variable is accessible"
      ],
      "metadata": {
        "id": "ib1QI9jzHcRx"
      }
    },
    {
      "cell_type": "code",
      "source": [
        "# Len\n",
        "album_ratings = [10.0, 8.5, 9.5, 7.0, 7.0, 9.5, 9.0, 9.5]\n",
        "L = len(album_ratings)\n",
        "print(L)\n",
        "\n",
        "# Sum\n",
        "S = sum(album_ratings)\n",
        "print(S)\n",
        "\n",
        "# Sorted\n",
        "album_ratings = [10.0, 8.5, 9.5, 7.0, 7.0, 9.5, 9.0, 9.5]\n",
        "sorted_album_rating = sorted(album_ratings)\n",
        "print(sorted_album_rating)\n",
        "print(album_ratings)\n",
        "\n",
        "# Sort\n",
        "album_ratings = [10.0, 8.5, 9.5, 7.0, 7.0, 9.5, 9.0, 9.5]\n",
        "album_ratings.sort()\n",
        "print(album_ratings)\n",
        "\n",
        "#Functions\n",
        "def add1(a):\n",
        "  \"\"\"\n",
        "  Add 1 to a\n",
        "  \"\"\"\n",
        "  b = a + 1\n",
        "  return b\n",
        "\n",
        "add1(99)\n",
        "\n",
        "help(add1)\n",
        "\n",
        "def Mult(a, b):\n",
        "  c = a * b\n",
        "  return c\n",
        "\n",
        "Mult(2, \"Dos \")\n",
        "\n",
        "def printStuff(Stuff):\n",
        "  for i, s in enumerate(Stuff):\n",
        "    print(\"Album\", i, \"Rating is \", s)\n",
        "\n",
        "album_ratings = [10.0, 8.5, 9.5]\n",
        "printStuff(album_ratings)\n",
        "\n",
        "# Global Scope\n",
        "def PinkFloyd():\n",
        "  global ClaimedSales\n",
        "  ClaimedSales = \"45 million\"\n",
        "  return ClaimedSales\n",
        "\n",
        "PinkFloyd()\n",
        "print(ClaimedSales)"
      ],
      "metadata": {
        "colab": {
          "base_uri": "https://localhost:8080/"
        },
        "id": "yny6DIamH3G7",
        "outputId": "f6db9022-6960-49b7-8d53-89009749c8ae"
      },
      "execution_count": null,
      "outputs": [
        {
          "output_type": "stream",
          "name": "stdout",
          "text": [
            "8\n",
            "70.0\n",
            "[7.0, 7.0, 8.5, 9.0, 9.5, 9.5, 9.5, 10.0]\n",
            "[10.0, 8.5, 9.5, 7.0, 7.0, 9.5, 9.0, 9.5]\n",
            "[7.0, 7.0, 8.5, 9.0, 9.5, 9.5, 9.5, 10.0]\n",
            "Help on function add1 in module __main__:\n",
            "\n",
            "add1(a)\n",
            "    Add 1 to a\n",
            "\n",
            "Album 0 Rating is  10.0\n",
            "Album 1 Rating is  8.5\n",
            "Album 2 Rating is  9.5\n",
            "45 million\n"
          ]
        }
      ]
    },
    {
      "cell_type": "markdown",
      "source": [
        "### **Objects and Classes**\n",
        "- Data types:\n",
        "  - int\n",
        "  - float\n",
        "  - String\n",
        "  - List\n",
        "  - Dictionary\n",
        "  - Bool\n",
        "- Each is an **Object**\n",
        "- A blueprint\n",
        "- Methods interacting with the object\n",
        "- Methods are functions that interact and change the data attributes, changing or using the data attributes of the object\n",
        "- An object is an instance of a particular type\n",
        "- Sorting is a example of a method that interacts with the data in the object\n",
        "- Class\n",
        "  - Instances\n",
        "    - Objects\n",
        "- dir(Nameofobject)"
      ],
      "metadata": {
        "id": "nx3HRJqtR4B0"
      }
    },
    {
      "cell_type": "code",
      "source": [
        "album_ratings = [10.0, 8.5, 9.5, 7.0, 7.0, 9.5, 9.0, 9.5]\n",
        "album_ratings.sort()\n",
        "album_ratings\n",
        "\n",
        "album_ratings.reverse()\n",
        "album_ratings"
      ],
      "metadata": {
        "colab": {
          "base_uri": "https://localhost:8080/"
        },
        "id": "K1N4GnORS5bT",
        "outputId": "c2de7b7d-c40c-4ca5-f012-1d62de9bd2ac"
      },
      "execution_count": null,
      "outputs": [
        {
          "output_type": "execute_result",
          "data": {
            "text/plain": [
              "[7.0, 7.0, 8.5, 9.0, 9.5, 9.5, 9.5, 10.0]"
            ]
          },
          "metadata": {},
          "execution_count": 111
        }
      ]
    },
    {
      "cell_type": "code",
      "source": [
        "x=1\n",
        "\n",
        "if(x!=1):\n",
        "\n",
        "  print('Hello')\n",
        "\n",
        "else:\n",
        "\n",
        "  print('Hi')\n",
        "\n",
        "print('Mike')"
      ],
      "metadata": {
        "colab": {
          "base_uri": "https://localhost:8080/"
        },
        "id": "yzS6vMgRX3ti",
        "outputId": "9ccf1b87-4cc7-4b72-dd64-c9bd3d23b3f9"
      },
      "execution_count": null,
      "outputs": [
        {
          "output_type": "stream",
          "name": "stdout",
          "text": [
            "Hi\n",
            "Mike\n"
          ]
        }
      ]
    },
    {
      "cell_type": "code",
      "source": [
        "A = ['1','2','3']\n",
        "\n",
        "for a in A:\n",
        "\n",
        " print(2*a)"
      ],
      "metadata": {
        "colab": {
          "base_uri": "https://localhost:8080/"
        },
        "id": "ZOVZmsshYAtM",
        "outputId": "f1686ae4-ab70-49b6-f6ba-59c4beba1349"
      },
      "execution_count": null,
      "outputs": [
        {
          "output_type": "stream",
          "name": "stdout",
          "text": [
            "11\n",
            "22\n",
            "33\n"
          ]
        }
      ]
    },
    {
      "cell_type": "code",
      "source": [
        "def Delta(x):\n",
        "\n",
        "  if x==0:\n",
        "\n",
        "    y=1;\n",
        "\n",
        "  else:\n",
        "\n",
        "    y=0;\n",
        "\n",
        "  return(y)\n",
        "\n",
        "Delta(0)"
      ],
      "metadata": {
        "colab": {
          "base_uri": "https://localhost:8080/"
        },
        "id": "tEiHYeAIYGye",
        "outputId": "53776e92-263d-4378-b305-d4da0a552aa6"
      },
      "execution_count": null,
      "outputs": [
        {
          "output_type": "execute_result",
          "data": {
            "text/plain": [
              "1"
            ]
          },
          "metadata": {},
          "execution_count": 119
        }
      ]
    },
    {
      "cell_type": "code",
      "source": [
        "class Person:\n",
        "\n",
        "    # no-argument constructor\n",
        "    def __init__(self):\n",
        "        self.x = \"My_name\"\n",
        "        self.y = \"My_Address\"\n",
        "\n",
        "    # a method for printing data members\n",
        "    def show(self):\n",
        "        print('Name:', self.x, 'Address:', self.y)\n",
        "\n",
        "# creating object of the class\n",
        "\n",
        "obj1 = Person()\n",
        "obj1.show()"
      ],
      "metadata": {
        "colab": {
          "base_uri": "https://localhost:8080/"
        },
        "id": "E7X3KhUFJbkE",
        "outputId": "6d9b1344-fc7a-4536-e9d7-7e15c721a47a"
      },
      "execution_count": null,
      "outputs": [
        {
          "output_type": "stream",
          "name": "stdout",
          "text": [
            "Name: My_name Address: My_Address\n"
          ]
        }
      ]
    },
    {
      "cell_type": "markdown",
      "source": [
        "## Module 4 – Python Programming Fundamentals\n",
        "\n",
        "### Learning Objectives\n",
        "- Reading files with open\n",
        "- Writing files with open\n",
        "- Loading data with Pandas\n",
        "- Working with and Saving data with Pandas\n",
        "\n",
        "### Notes"
      ],
      "metadata": {
        "id": "cn_AVyxCYihU"
      }
    },
    {
      "cell_type": "markdown",
      "source": [],
      "metadata": {
        "id": "UMjod_VeZDp8"
      }
    },
    {
      "cell_type": "markdown",
      "source": [
        "### **Open function**\n",
        "- To create a file object\n",
        "- To obtain the data from a txt file"
      ],
      "metadata": {
        "id": "35rEgupWZRHU"
      }
    },
    {
      "cell_type": "code",
      "source": [
        "# Mode w, r, w, a (appending)\n",
        "File1 = open(\"Example.txt\", \"a\")\n",
        "\n",
        "# Attribute name\n",
        "File1.name\n",
        "\n",
        "# Attribute mode\n",
        "File1.mode\n",
        "\n",
        "# Attribute close\n",
        "File1.close()\n",
        "\n",
        "# with statement\n",
        "# readlines method to output every line as an element in a list\n",
        "with open(\"Example.txt\", \"r\") as File1:\n",
        "  file_stuff = File1.readlines()\n",
        "  print(file_stuff)\n",
        "print(File1.closed)\n",
        "print(file_stuff)\n",
        "\n",
        "# readline method to output the first line as an element in a list\n",
        "with open(\"Example.txt\", \"r\") as File1:\n",
        "  file_stuff = File1.readline()\n",
        "  print(file_stuff)\n",
        "print(File1.closed)\n",
        "print(file_stuff)"
      ],
      "metadata": {
        "colab": {
          "base_uri": "https://localhost:8080/"
        },
        "id": "ecU9kW9bZkcm",
        "outputId": "c41cbfad-51f4-4147-a09c-49919abb5dc7"
      },
      "execution_count": 25,
      "outputs": [
        {
          "output_type": "stream",
          "name": "stdout",
          "text": [
            "[]\n",
            "True\n",
            "[]\n",
            "\n",
            "True\n",
            "\n"
          ]
        }
      ]
    },
    {
      "cell_type": "markdown",
      "source": [],
      "metadata": {
        "id": "oKmwDCi3fJsM"
      }
    },
    {
      "cell_type": "markdown",
      "source": [
        "### **Writing function**\n",
        "- To write to files using the open function"
      ],
      "metadata": {
        "id": "2IRIPSs9fNvc"
      }
    },
    {
      "cell_type": "code",
      "source": [
        "File1 = open(\"Example1.txt\", \"w\")\n",
        "\n",
        "with open(\"Example2.txt\", \"w\") as File1:\n",
        "  File1.write(\"This is line A\\n\")\n",
        "  File1.write(\"This is line B\\n\")"
      ],
      "metadata": {
        "colab": {
          "base_uri": "https://localhost:8080/"
        },
        "id": "8uyO536XfXEv",
        "outputId": "bb90a8ef-14f5-4ac4-ebd1-0270932b6167"
      },
      "execution_count": 40,
      "outputs": [
        {
          "output_type": "stream",
          "name": "stdout",
          "text": [
            "<_io.TextIOWrapper name='Example2.txt' mode='w' encoding='UTF-8'>\n"
          ]
        }
      ]
    },
    {
      "cell_type": "markdown",
      "source": [
        "### **Pandas**\n",
        "- A popular library for data analysis"
      ],
      "metadata": {
        "id": "-EEz4Djwi9d4"
      }
    },
    {
      "cell_type": "code",
      "source": [
        "import pandas as pd"
      ],
      "metadata": {
        "id": "co-xGJdZjQWg"
      },
      "execution_count": 65,
      "outputs": []
    },
    {
      "cell_type": "code",
      "source": [
        "df = pd.DataFrame({'a' : [11,21,31], 'b' : [21,22,23]})\n",
        "df.head()"
      ],
      "metadata": {
        "colab": {
          "base_uri": "https://localhost:8080/",
          "height": 142
        },
        "id": "MYsC2lNQoEz6",
        "outputId": "4680767b-efb5-4eb6-bf54-a5f0150b71ff"
      },
      "execution_count": 79,
      "outputs": [
        {
          "output_type": "execute_result",
          "data": {
            "text/plain": [
              "    a   b\n",
              "0  11  21\n",
              "1  21  22\n",
              "2  31  23"
            ],
            "text/html": [
              "\n",
              "  <div id=\"df-16af6381-cbae-4db6-a1e5-8578fb80204f\">\n",
              "    <div class=\"colab-df-container\">\n",
              "      <div>\n",
              "<style scoped>\n",
              "    .dataframe tbody tr th:only-of-type {\n",
              "        vertical-align: middle;\n",
              "    }\n",
              "\n",
              "    .dataframe tbody tr th {\n",
              "        vertical-align: top;\n",
              "    }\n",
              "\n",
              "    .dataframe thead th {\n",
              "        text-align: right;\n",
              "    }\n",
              "</style>\n",
              "<table border=\"1\" class=\"dataframe\">\n",
              "  <thead>\n",
              "    <tr style=\"text-align: right;\">\n",
              "      <th></th>\n",
              "      <th>a</th>\n",
              "      <th>b</th>\n",
              "    </tr>\n",
              "  </thead>\n",
              "  <tbody>\n",
              "    <tr>\n",
              "      <th>0</th>\n",
              "      <td>11</td>\n",
              "      <td>21</td>\n",
              "    </tr>\n",
              "    <tr>\n",
              "      <th>1</th>\n",
              "      <td>21</td>\n",
              "      <td>22</td>\n",
              "    </tr>\n",
              "    <tr>\n",
              "      <th>2</th>\n",
              "      <td>31</td>\n",
              "      <td>23</td>\n",
              "    </tr>\n",
              "  </tbody>\n",
              "</table>\n",
              "</div>\n",
              "      <button class=\"colab-df-convert\" onclick=\"convertToInteractive('df-16af6381-cbae-4db6-a1e5-8578fb80204f')\"\n",
              "              title=\"Convert this dataframe to an interactive table.\"\n",
              "              style=\"display:none;\">\n",
              "        \n",
              "  <svg xmlns=\"http://www.w3.org/2000/svg\" height=\"24px\"viewBox=\"0 0 24 24\"\n",
              "       width=\"24px\">\n",
              "    <path d=\"M0 0h24v24H0V0z\" fill=\"none\"/>\n",
              "    <path d=\"M18.56 5.44l.94 2.06.94-2.06 2.06-.94-2.06-.94-.94-2.06-.94 2.06-2.06.94zm-11 1L8.5 8.5l.94-2.06 2.06-.94-2.06-.94L8.5 2.5l-.94 2.06-2.06.94zm10 10l.94 2.06.94-2.06 2.06-.94-2.06-.94-.94-2.06-.94 2.06-2.06.94z\"/><path d=\"M17.41 7.96l-1.37-1.37c-.4-.4-.92-.59-1.43-.59-.52 0-1.04.2-1.43.59L10.3 9.45l-7.72 7.72c-.78.78-.78 2.05 0 2.83L4 21.41c.39.39.9.59 1.41.59.51 0 1.02-.2 1.41-.59l7.78-7.78 2.81-2.81c.8-.78.8-2.07 0-2.86zM5.41 20L4 18.59l7.72-7.72 1.47 1.35L5.41 20z\"/>\n",
              "  </svg>\n",
              "      </button>\n",
              "      \n",
              "  <style>\n",
              "    .colab-df-container {\n",
              "      display:flex;\n",
              "      flex-wrap:wrap;\n",
              "      gap: 12px;\n",
              "    }\n",
              "\n",
              "    .colab-df-convert {\n",
              "      background-color: #E8F0FE;\n",
              "      border: none;\n",
              "      border-radius: 50%;\n",
              "      cursor: pointer;\n",
              "      display: none;\n",
              "      fill: #1967D2;\n",
              "      height: 32px;\n",
              "      padding: 0 0 0 0;\n",
              "      width: 32px;\n",
              "    }\n",
              "\n",
              "    .colab-df-convert:hover {\n",
              "      background-color: #E2EBFA;\n",
              "      box-shadow: 0px 1px 2px rgba(60, 64, 67, 0.3), 0px 1px 3px 1px rgba(60, 64, 67, 0.15);\n",
              "      fill: #174EA6;\n",
              "    }\n",
              "\n",
              "    [theme=dark] .colab-df-convert {\n",
              "      background-color: #3B4455;\n",
              "      fill: #D2E3FC;\n",
              "    }\n",
              "\n",
              "    [theme=dark] .colab-df-convert:hover {\n",
              "      background-color: #434B5C;\n",
              "      box-shadow: 0px 1px 3px 1px rgba(0, 0, 0, 0.15);\n",
              "      filter: drop-shadow(0px 1px 2px rgba(0, 0, 0, 0.3));\n",
              "      fill: #FFFFFF;\n",
              "    }\n",
              "  </style>\n",
              "\n",
              "      <script>\n",
              "        const buttonEl =\n",
              "          document.querySelector('#df-16af6381-cbae-4db6-a1e5-8578fb80204f button.colab-df-convert');\n",
              "        buttonEl.style.display =\n",
              "          google.colab.kernel.accessAllowed ? 'block' : 'none';\n",
              "\n",
              "        async function convertToInteractive(key) {\n",
              "          const element = document.querySelector('#df-16af6381-cbae-4db6-a1e5-8578fb80204f');\n",
              "          const dataTable =\n",
              "            await google.colab.kernel.invokeFunction('convertToInteractive',\n",
              "                                                     [key], {});\n",
              "          if (!dataTable) return;\n",
              "\n",
              "          const docLinkHtml = 'Like what you see? Visit the ' +\n",
              "            '<a target=\"_blank\" href=https://colab.research.google.com/notebooks/data_table.ipynb>data table notebook</a>'\n",
              "            + ' to learn more about interactive tables.';\n",
              "          element.innerHTML = '';\n",
              "          dataTable['output_type'] = 'display_data';\n",
              "          await google.colab.output.renderOutput(dataTable, element);\n",
              "          const docLink = document.createElement('div');\n",
              "          docLink.innerHTML = docLinkHtml;\n",
              "          element.appendChild(docLink);\n",
              "        }\n",
              "      </script>\n",
              "    </div>\n",
              "  </div>\n",
              "  "
            ]
          },
          "metadata": {},
          "execution_count": 79
        }
      ]
    },
    {
      "cell_type": "code",
      "source": [
        "df = pd.DataFrame({'a' : [1,2,1], 'b' : [1,1,1]})\n",
        "df['a'] == 1"
      ],
      "metadata": {
        "colab": {
          "base_uri": "https://localhost:8080/"
        },
        "id": "qIQ7MDOkp8yA",
        "outputId": "ae9ac454-994e-4a50-89fd-9817425912f1"
      },
      "execution_count": 77,
      "outputs": [
        {
          "output_type": "execute_result",
          "data": {
            "text/plain": [
              "0     True\n",
              "1    False\n",
              "2     True\n",
              "Name: a, dtype: bool"
            ]
          },
          "metadata": {},
          "execution_count": 77
        }
      ]
    },
    {
      "cell_type": "code",
      "source": [
        "df.to_csv(\"file.csv\")"
      ],
      "metadata": {
        "colab": {
          "base_uri": "https://localhost:8080/",
          "height": 307
        },
        "id": "fEg3VDsgqL2k",
        "outputId": "0eb04399-3948-4b36-fefd-fe996987fe68"
      },
      "execution_count": 78,
      "outputs": [
        {
          "output_type": "error",
          "ename": "OSError",
          "evalue": "ignored",
          "traceback": [
            "\u001b[0;31m---------------------------------------------------------------------------\u001b[0m",
            "\u001b[0;31mOSError\u001b[0m                                   Traceback (most recent call last)",
            "\u001b[0;32m<ipython-input-78-d8ed52f494c8>\u001b[0m in \u001b[0;36m<module>\u001b[0;34m\u001b[0m\n\u001b[0;32m----> 1\u001b[0;31m \u001b[0mdf\u001b[0m\u001b[0;34m.\u001b[0m\u001b[0mto_csv\u001b[0m\u001b[0;34m(\u001b[0m\u001b[0;34m\"file.csv\"\u001b[0m\u001b[0;34m)\u001b[0m\u001b[0;34m\u001b[0m\u001b[0;34m\u001b[0m\u001b[0m\n\u001b[0m",
            "\u001b[0;32m/usr/local/lib/python3.7/dist-packages/pandas/core/generic.py\u001b[0m in \u001b[0;36mto_csv\u001b[0;34m(self, path_or_buf, sep, na_rep, float_format, columns, header, index, index_label, mode, encoding, compression, quoting, quotechar, line_terminator, chunksize, date_format, doublequote, escapechar, decimal, errors, storage_options)\u001b[0m\n\u001b[1;32m   3480\u001b[0m             \u001b[0mdoublequote\u001b[0m\u001b[0;34m=\u001b[0m\u001b[0mdoublequote\u001b[0m\u001b[0;34m,\u001b[0m\u001b[0;34m\u001b[0m\u001b[0;34m\u001b[0m\u001b[0m\n\u001b[1;32m   3481\u001b[0m             \u001b[0mescapechar\u001b[0m\u001b[0;34m=\u001b[0m\u001b[0mescapechar\u001b[0m\u001b[0;34m,\u001b[0m\u001b[0;34m\u001b[0m\u001b[0;34m\u001b[0m\u001b[0m\n\u001b[0;32m-> 3482\u001b[0;31m             \u001b[0mstorage_options\u001b[0m\u001b[0;34m=\u001b[0m\u001b[0mstorage_options\u001b[0m\u001b[0;34m,\u001b[0m\u001b[0;34m\u001b[0m\u001b[0;34m\u001b[0m\u001b[0m\n\u001b[0m\u001b[1;32m   3483\u001b[0m         )\n\u001b[1;32m   3484\u001b[0m \u001b[0;34m\u001b[0m\u001b[0m\n",
            "\u001b[0;32m/usr/local/lib/python3.7/dist-packages/pandas/io/formats/format.py\u001b[0m in \u001b[0;36mto_csv\u001b[0;34m(self, path_or_buf, encoding, sep, columns, index_label, mode, compression, quoting, quotechar, line_terminator, chunksize, date_format, doublequote, escapechar, errors, storage_options)\u001b[0m\n\u001b[1;32m   1103\u001b[0m             \u001b[0mformatter\u001b[0m\u001b[0;34m=\u001b[0m\u001b[0mself\u001b[0m\u001b[0;34m.\u001b[0m\u001b[0mfmt\u001b[0m\u001b[0;34m,\u001b[0m\u001b[0;34m\u001b[0m\u001b[0;34m\u001b[0m\u001b[0m\n\u001b[1;32m   1104\u001b[0m         )\n\u001b[0;32m-> 1105\u001b[0;31m         \u001b[0mcsv_formatter\u001b[0m\u001b[0;34m.\u001b[0m\u001b[0msave\u001b[0m\u001b[0;34m(\u001b[0m\u001b[0;34m)\u001b[0m\u001b[0;34m\u001b[0m\u001b[0;34m\u001b[0m\u001b[0m\n\u001b[0m\u001b[1;32m   1106\u001b[0m \u001b[0;34m\u001b[0m\u001b[0m\n\u001b[1;32m   1107\u001b[0m         \u001b[0;32mif\u001b[0m \u001b[0mcreated_buffer\u001b[0m\u001b[0;34m:\u001b[0m\u001b[0;34m\u001b[0m\u001b[0;34m\u001b[0m\u001b[0m\n",
            "\u001b[0;32m/usr/local/lib/python3.7/dist-packages/pandas/io/formats/csvs.py\u001b[0m in \u001b[0;36msave\u001b[0;34m(self)\u001b[0m\n\u001b[1;32m    241\u001b[0m             \u001b[0merrors\u001b[0m\u001b[0;34m=\u001b[0m\u001b[0mself\u001b[0m\u001b[0;34m.\u001b[0m\u001b[0merrors\u001b[0m\u001b[0;34m,\u001b[0m\u001b[0;34m\u001b[0m\u001b[0;34m\u001b[0m\u001b[0m\n\u001b[1;32m    242\u001b[0m             \u001b[0mcompression\u001b[0m\u001b[0;34m=\u001b[0m\u001b[0mself\u001b[0m\u001b[0;34m.\u001b[0m\u001b[0mcompression\u001b[0m\u001b[0;34m,\u001b[0m\u001b[0;34m\u001b[0m\u001b[0;34m\u001b[0m\u001b[0m\n\u001b[0;32m--> 243\u001b[0;31m             \u001b[0mstorage_options\u001b[0m\u001b[0;34m=\u001b[0m\u001b[0mself\u001b[0m\u001b[0;34m.\u001b[0m\u001b[0mstorage_options\u001b[0m\u001b[0;34m,\u001b[0m\u001b[0;34m\u001b[0m\u001b[0;34m\u001b[0m\u001b[0m\n\u001b[0m\u001b[1;32m    244\u001b[0m         ) as handles:\n\u001b[1;32m    245\u001b[0m \u001b[0;34m\u001b[0m\u001b[0m\n",
            "\u001b[0;32m/usr/local/lib/python3.7/dist-packages/pandas/io/common.py\u001b[0m in \u001b[0;36mget_handle\u001b[0;34m(path_or_buf, mode, encoding, compression, memory_map, is_text, errors, storage_options)\u001b[0m\n\u001b[1;32m    705\u001b[0m                 \u001b[0mencoding\u001b[0m\u001b[0;34m=\u001b[0m\u001b[0mioargs\u001b[0m\u001b[0;34m.\u001b[0m\u001b[0mencoding\u001b[0m\u001b[0;34m,\u001b[0m\u001b[0;34m\u001b[0m\u001b[0;34m\u001b[0m\u001b[0m\n\u001b[1;32m    706\u001b[0m                 \u001b[0merrors\u001b[0m\u001b[0;34m=\u001b[0m\u001b[0merrors\u001b[0m\u001b[0;34m,\u001b[0m\u001b[0;34m\u001b[0m\u001b[0;34m\u001b[0m\u001b[0m\n\u001b[0;32m--> 707\u001b[0;31m                 \u001b[0mnewline\u001b[0m\u001b[0;34m=\u001b[0m\u001b[0;34m\"\"\u001b[0m\u001b[0;34m,\u001b[0m\u001b[0;34m\u001b[0m\u001b[0;34m\u001b[0m\u001b[0m\n\u001b[0m\u001b[1;32m    708\u001b[0m             )\n\u001b[1;32m    709\u001b[0m         \u001b[0;32melse\u001b[0m\u001b[0;34m:\u001b[0m\u001b[0;34m\u001b[0m\u001b[0;34m\u001b[0m\u001b[0m\n",
            "\u001b[0;31mOSError\u001b[0m: [Errno 95] Operation not supported: 'file.csv'"
          ]
        }
      ]
    }
  ]
}